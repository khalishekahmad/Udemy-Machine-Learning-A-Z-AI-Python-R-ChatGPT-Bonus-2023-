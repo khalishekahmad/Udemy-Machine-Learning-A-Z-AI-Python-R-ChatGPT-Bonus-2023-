{
  "nbformat": 4,
  "nbformat_minor": 0,
  "metadata": {
    "colab": {
      "provenance": []
    },
    "kernelspec": {
      "name": "python3",
      "display_name": "Python 3"
    }
  },
  "cells": [
    {
      "cell_type": "markdown",
      "metadata": {
        "id": "CazISR8X_HUG"
      },
      "source": [
        "# Multiple Linear Regression"
      ]
    },
    {
      "cell_type": "markdown",
      "metadata": {
        "id": "pOyqYHTk_Q57"
      },
      "source": [
        "## Importing the libraries"
      ]
    },
    {
      "cell_type": "markdown",
      "source": [
        "Code tersebut menggunakan tiga library, yaitu NumPy untuk operasi numerik, Matplotlib untuk membuat plot grafik, dan Pandas untuk manipulasi dan analisis data. Code ini kemungkinan besar digunakan untuk melakukan visualisasi data.\n",
        "\n",
        "```python\n",
        "import numpy as np\n",
        "import matplotlib.pyplot as plt\n",
        "import pandas as pd\n",
        "```\n",
        "\n",
        "- `import numpy as np`: Mengimpor library NumPy dan memberikan alias \"np\" untuk memudahkan penggunaan.\n",
        "- `import matplotlib.pyplot as plt`: Mengimpor modul \"pyplot\" dari library Matplotlib dan memberikan alias \"plt\" untuk memudahkan penggunaan.\n",
        "- `import pandas as pd`: Mengimpor library Pandas dan memberikan alias \"pd\" untuk memudahkan penggunaan.\n",
        "\n",
        "Kode tersebut adalah bagian awal dari sebuah program atau skrip Python yang kemungkinan besar akan melibatkan pengolahan data dan/atau visualisasi menggunakan NumPy, Matplotlib, dan Pandas."
      ],
      "metadata": {
        "id": "0PFHjvOsAIQ8"
      }
    },
    {
      "cell_type": "code",
      "metadata": {
        "id": "T_YHJjnD_Tja"
      },
      "source": [
        "import numpy as np\n",
        "import matplotlib.pyplot as plt\n",
        "import pandas as pd"
      ],
      "execution_count": null,
      "outputs": []
    },
    {
      "cell_type": "markdown",
      "metadata": {
        "id": "vgC61-ah_WIz"
      },
      "source": [
        "## Importing the dataset"
      ]
    },
    {
      "cell_type": "markdown",
      "source": [
        "```python\n",
        "dataset = pd.read_csv('50_Startups.csv')\n",
        "```\n",
        "Membaca file CSV '50_Startups.csv' dan menyimpan datanya dalam variabel dataset.\n",
        "\n",
        "```python\n",
        "X = dataset.iloc[:, :-1].values\n",
        "```\n",
        "Mengambil semua baris dan kolom kecuali kolom terakhir dari dataset sebagai variabel X.\n",
        "\n",
        "```python\n",
        "y = dataset.iloc[:, -1].values\n",
        "```\n",
        "Mengambil semua baris dari kolom terakhir dataset sebagai variabel y."
      ],
      "metadata": {
        "id": "OoFrcr0jAdag"
      }
    },
    {
      "cell_type": "code",
      "metadata": {
        "id": "UrxyEKGn_ez7"
      },
      "source": [
        "dataset = pd.read_csv('50_Startups.csv')\n",
        "X = dataset.iloc[:, :-1].values\n",
        "y = dataset.iloc[:, -1].values"
      ],
      "execution_count": null,
      "outputs": []
    },
    {
      "cell_type": "markdown",
      "source": [
        "```python\n",
        "print(X)\n",
        "```\n",
        "Mencetak nilai variabel X."
      ],
      "metadata": {
        "id": "rdFLo2K7A2H2"
      }
    },
    {
      "cell_type": "code",
      "metadata": {
        "id": "GOB3QhV9B5kD",
        "colab": {
          "base_uri": "https://localhost:8080/",
          "height": 857
        },
        "outputId": "4a05377a-2db2-43fc-b824-a0710448baee"
      },
      "source": [
        "print(X)"
      ],
      "execution_count": null,
      "outputs": [
        {
          "output_type": "stream",
          "text": [
            "[[165349.2 136897.8 471784.1 'New York']\n",
            " [162597.7 151377.59 443898.53 'California']\n",
            " [153441.51 101145.55 407934.54 'Florida']\n",
            " [144372.41 118671.85 383199.62 'New York']\n",
            " [142107.34 91391.77 366168.42 'Florida']\n",
            " [131876.9 99814.71 362861.36 'New York']\n",
            " [134615.46 147198.87 127716.82 'California']\n",
            " [130298.13 145530.06 323876.68 'Florida']\n",
            " [120542.52 148718.95 311613.29 'New York']\n",
            " [123334.88 108679.17 304981.62 'California']\n",
            " [101913.08 110594.11 229160.95 'Florida']\n",
            " [100671.96 91790.61 249744.55 'California']\n",
            " [93863.75 127320.38 249839.44 'Florida']\n",
            " [91992.39 135495.07 252664.93 'California']\n",
            " [119943.24 156547.42 256512.92 'Florida']\n",
            " [114523.61 122616.84 261776.23 'New York']\n",
            " [78013.11 121597.55 264346.06 'California']\n",
            " [94657.16 145077.58 282574.31 'New York']\n",
            " [91749.16 114175.79 294919.57 'Florida']\n",
            " [86419.7 153514.11 0.0 'New York']\n",
            " [76253.86 113867.3 298664.47 'California']\n",
            " [78389.47 153773.43 299737.29 'New York']\n",
            " [73994.56 122782.75 303319.26 'Florida']\n",
            " [67532.53 105751.03 304768.73 'Florida']\n",
            " [77044.01 99281.34 140574.81 'New York']\n",
            " [64664.71 139553.16 137962.62 'California']\n",
            " [75328.87 144135.98 134050.07 'Florida']\n",
            " [72107.6 127864.55 353183.81 'New York']\n",
            " [66051.52 182645.56 118148.2 'Florida']\n",
            " [65605.48 153032.06 107138.38 'New York']\n",
            " [61994.48 115641.28 91131.24 'Florida']\n",
            " [61136.38 152701.92 88218.23 'New York']\n",
            " [63408.86 129219.61 46085.25 'California']\n",
            " [55493.95 103057.49 214634.81 'Florida']\n",
            " [46426.07 157693.92 210797.67 'California']\n",
            " [46014.02 85047.44 205517.64 'New York']\n",
            " [28663.76 127056.21 201126.82 'Florida']\n",
            " [44069.95 51283.14 197029.42 'California']\n",
            " [20229.59 65947.93 185265.1 'New York']\n",
            " [38558.51 82982.09 174999.3 'California']\n",
            " [28754.33 118546.05 172795.67 'California']\n",
            " [27892.92 84710.77 164470.71 'Florida']\n",
            " [23640.93 96189.63 148001.11 'California']\n",
            " [15505.73 127382.3 35534.17 'New York']\n",
            " [22177.74 154806.14 28334.72 'California']\n",
            " [1000.23 124153.04 1903.93 'New York']\n",
            " [1315.46 115816.21 297114.46 'Florida']\n",
            " [0.0 135426.92 0.0 'California']\n",
            " [542.05 51743.15 0.0 'New York']\n",
            " [0.0 116983.8 45173.06 'California']]\n"
          ],
          "name": "stdout"
        }
      ]
    },
    {
      "cell_type": "markdown",
      "source": [
        "Output tersebut menampilkan nilai dari variabel X, yang berisi data numerik dan kategorikal dari dataset. Setiap baris mewakili satu entitas bisnis dengan atribut numerik pertama hingga ketiga dan atribut kategorikal terakhir."
      ],
      "metadata": {
        "id": "Kaggoxx_Bbxz"
      }
    },
    {
      "cell_type": "markdown",
      "metadata": {
        "id": "VadrvE7s_lS9"
      },
      "source": [
        "## Encoding categorical data"
      ]
    },
    {
      "cell_type": "markdown",
      "source": [
        "```python\n",
        "from sklearn.compose import ColumnTransformer\n",
        "```\n",
        "Mengimpor modul `ColumnTransformer` dari pustaka scikit-learn.\n",
        "\n",
        "```python\n",
        "from sklearn.preprocessing import OneHotEncoder\n",
        "```\n",
        "Mengimpor modul `OneHotEncoder` dari pustaka scikit-learn.\n",
        "\n",
        "```python\n",
        "ct = ColumnTransformer(transformers=[('encoder', OneHotEncoder(), [3])], remainder='passthrough')\n",
        "```\n",
        "Membuat objek `ct` dari kelas `ColumnTransformer` dengan menggunakan transformer OneHotEncoder untuk kolom ke-4 dan menyertakan seluruh kolom yang tidak diubah.\n",
        "\n",
        "```python\n",
        "X = np.array(ct.fit_transform(X))\n",
        "```\n",
        "Mengubah data array X menggunakan objek ColumnTransformer yang telah dibuat sebelumnya.\n",
        "\n",
        "Catatan: Kode ini diasumsikan menggunakan modul NumPy (`np`), dan harus ada import NumPy sebelumnya untuk menghindari kesalahan."
      ],
      "metadata": {
        "id": "xJCJrsVSBf07"
      }
    },
    {
      "cell_type": "code",
      "metadata": {
        "id": "wV3fD1mbAvsh"
      },
      "source": [
        "from sklearn.compose import ColumnTransformer\n",
        "from sklearn.preprocessing import OneHotEncoder\n",
        "ct = ColumnTransformer(transformers=[('encoder', OneHotEncoder(), [3])], remainder='passthrough')\n",
        "X = np.array(ct.fit_transform(X))"
      ],
      "execution_count": null,
      "outputs": []
    },
    {
      "cell_type": "markdown",
      "source": [
        "```python\n",
        "print(X)\n",
        "```\n",
        "Mencetak nilai variabel X."
      ],
      "metadata": {
        "id": "eWAT2WowBxYS"
      }
    },
    {
      "cell_type": "code",
      "metadata": {
        "id": "4ym3HdYeCGYG",
        "colab": {
          "base_uri": "https://localhost:8080/",
          "height": 857
        },
        "outputId": "ce09e670-cf06-4a1c-f5b0-89422aae0496"
      },
      "source": [
        "print(X)"
      ],
      "execution_count": null,
      "outputs": [
        {
          "output_type": "stream",
          "text": [
            "[[0.0 0.0 1.0 165349.2 136897.8 471784.1]\n",
            " [1.0 0.0 0.0 162597.7 151377.59 443898.53]\n",
            " [0.0 1.0 0.0 153441.51 101145.55 407934.54]\n",
            " [0.0 0.0 1.0 144372.41 118671.85 383199.62]\n",
            " [0.0 1.0 0.0 142107.34 91391.77 366168.42]\n",
            " [0.0 0.0 1.0 131876.9 99814.71 362861.36]\n",
            " [1.0 0.0 0.0 134615.46 147198.87 127716.82]\n",
            " [0.0 1.0 0.0 130298.13 145530.06 323876.68]\n",
            " [0.0 0.0 1.0 120542.52 148718.95 311613.29]\n",
            " [1.0 0.0 0.0 123334.88 108679.17 304981.62]\n",
            " [0.0 1.0 0.0 101913.08 110594.11 229160.95]\n",
            " [1.0 0.0 0.0 100671.96 91790.61 249744.55]\n",
            " [0.0 1.0 0.0 93863.75 127320.38 249839.44]\n",
            " [1.0 0.0 0.0 91992.39 135495.07 252664.93]\n",
            " [0.0 1.0 0.0 119943.24 156547.42 256512.92]\n",
            " [0.0 0.0 1.0 114523.61 122616.84 261776.23]\n",
            " [1.0 0.0 0.0 78013.11 121597.55 264346.06]\n",
            " [0.0 0.0 1.0 94657.16 145077.58 282574.31]\n",
            " [0.0 1.0 0.0 91749.16 114175.79 294919.57]\n",
            " [0.0 0.0 1.0 86419.7 153514.11 0.0]\n",
            " [1.0 0.0 0.0 76253.86 113867.3 298664.47]\n",
            " [0.0 0.0 1.0 78389.47 153773.43 299737.29]\n",
            " [0.0 1.0 0.0 73994.56 122782.75 303319.26]\n",
            " [0.0 1.0 0.0 67532.53 105751.03 304768.73]\n",
            " [0.0 0.0 1.0 77044.01 99281.34 140574.81]\n",
            " [1.0 0.0 0.0 64664.71 139553.16 137962.62]\n",
            " [0.0 1.0 0.0 75328.87 144135.98 134050.07]\n",
            " [0.0 0.0 1.0 72107.6 127864.55 353183.81]\n",
            " [0.0 1.0 0.0 66051.52 182645.56 118148.2]\n",
            " [0.0 0.0 1.0 65605.48 153032.06 107138.38]\n",
            " [0.0 1.0 0.0 61994.48 115641.28 91131.24]\n",
            " [0.0 0.0 1.0 61136.38 152701.92 88218.23]\n",
            " [1.0 0.0 0.0 63408.86 129219.61 46085.25]\n",
            " [0.0 1.0 0.0 55493.95 103057.49 214634.81]\n",
            " [1.0 0.0 0.0 46426.07 157693.92 210797.67]\n",
            " [0.0 0.0 1.0 46014.02 85047.44 205517.64]\n",
            " [0.0 1.0 0.0 28663.76 127056.21 201126.82]\n",
            " [1.0 0.0 0.0 44069.95 51283.14 197029.42]\n",
            " [0.0 0.0 1.0 20229.59 65947.93 185265.1]\n",
            " [1.0 0.0 0.0 38558.51 82982.09 174999.3]\n",
            " [1.0 0.0 0.0 28754.33 118546.05 172795.67]\n",
            " [0.0 1.0 0.0 27892.92 84710.77 164470.71]\n",
            " [1.0 0.0 0.0 23640.93 96189.63 148001.11]\n",
            " [0.0 0.0 1.0 15505.73 127382.3 35534.17]\n",
            " [1.0 0.0 0.0 22177.74 154806.14 28334.72]\n",
            " [0.0 0.0 1.0 1000.23 124153.04 1903.93]\n",
            " [0.0 1.0 0.0 1315.46 115816.21 297114.46]\n",
            " [1.0 0.0 0.0 0.0 135426.92 0.0]\n",
            " [0.0 0.0 1.0 542.05 51743.15 0.0]\n",
            " [1.0 0.0 0.0 0.0 116983.8 45173.06]]\n"
          ],
          "name": "stdout"
        }
      ]
    },
    {
      "cell_type": "markdown",
      "source": [
        "Output menunjukkan data set setelah proses transformasi menggunakan `ColumnTransformer` dengan `OneHotEncoder` untuk kolom ke-4 (indeks 3). Hasil transformasi ini membagi kategori unik pada kolom tersebut menjadi kolom-kolom biner baru, yang mewakili setiap kategori dengan nilai 0 atau 1. Kolom-kolom biner ini kemudian digabungkan kembali dengan kolom-kolom lainnya dari data set asli.\n",
        "\n",
        "Sebagai contoh, pada baris pertama output, kita dapat melihat bahwa kategori pada kolom ke-4 adalah 1.0, yang berarti kolom pertama dari hasil transformasi adalah 0.0, kolom kedua 0.0, dan kolom ketiga 1.0. Kemudian, nilai-nilai dari kolom-kolom lainnya (kolom ke-5 sampai ke-7) dipertahankan. Proses ini diulang untuk setiap baris dalam data set asli."
      ],
      "metadata": {
        "id": "FNi8ebmNB9dI"
      }
    },
    {
      "cell_type": "markdown",
      "metadata": {
        "id": "WemVnqgeA70k"
      },
      "source": [
        "## Splitting the dataset into the Training set and Test set"
      ]
    },
    {
      "cell_type": "markdown",
      "source": [
        "```python\n",
        "from sklearn.model_selection import train_test_split\n",
        "```\n",
        "Mengimpor fungsi `train_test_split` dari modul `model_selection` dalam pustaka `sklearn`.\n",
        "\n",
        "```python\n",
        "X_train, X_test, y_train, y_test = train_test_split(X, y, test_size=0.2, random_state=0)\n",
        "```\n",
        "Memisahkan dataset menjadi dua set, yaitu set pelatihan (`X_train` dan `y_train`) serta set pengujian (`X_test` dan `y_test`). Proporsi data pengujian adalah 20%, dan `random_state` digunakan agar hasil pemisahan dapat direproduksi.\n",
        "\n",
        "Note: Kode ini mengasumsikan bahwa variabel `X` dan `y` telah didefinisikan sebelumnya.\n",
        "\n"
      ],
      "metadata": {
        "id": "8KJUzgl9EE25"
      }
    },
    {
      "cell_type": "code",
      "metadata": {
        "id": "Kb_v_ae-A-20"
      },
      "source": [
        "from sklearn.model_selection import train_test_split\n",
        "X_train, X_test, y_train, y_test = train_test_split(X, y, test_size = 0.2, random_state = 0)"
      ],
      "execution_count": null,
      "outputs": []
    },
    {
      "cell_type": "markdown",
      "metadata": {
        "id": "k-McZVsQBINc"
      },
      "source": [
        "## Training the Multiple Linear Regression model on the Training set"
      ]
    },
    {
      "cell_type": "markdown",
      "source": [
        "```python\n",
        "from sklearn.linear_model import LinearRegression\n",
        "```\n",
        "Mengimpor modul Linear Regression dari pustaka scikit-learn.\n",
        "\n",
        "```python\n",
        "regressor = LinearRegression()\n",
        "```\n",
        "Membuat objek regressor sebagai instance dari kelas LinearRegression.\n",
        "\n",
        "```python\n",
        "regressor.fit(X_train, y_train)\n",
        "```\n",
        "Melatih model menggunakan data pelatihan (X_train) dan target pelatihan (y_train). Model akan belajar untuk menyesuaikan diri dengan pola dalam data pelatihan."
      ],
      "metadata": {
        "id": "cQEGDi0sESfr"
      }
    },
    {
      "cell_type": "code",
      "metadata": {
        "id": "ywPjx0L1BMiD",
        "colab": {
          "base_uri": "https://localhost:8080/",
          "height": 34
        },
        "outputId": "099836bc-4d85-4b4f-a488-093faf02e8cb"
      },
      "source": [
        "from sklearn.linear_model import LinearRegression\n",
        "regressor = LinearRegression()\n",
        "regressor.fit(X_train, y_train)"
      ],
      "execution_count": null,
      "outputs": [
        {
          "output_type": "execute_result",
          "data": {
            "text/plain": [
              "LinearRegression(copy_X=True, fit_intercept=True, n_jobs=None, normalize=False)"
            ]
          },
          "metadata": {
            "tags": []
          },
          "execution_count": 7
        }
      ]
    },
    {
      "cell_type": "markdown",
      "source": [
        "Hasil output tersebut adalah representasi dari model Linear Regression yang telah dilatih. Parameter-parameter default dari model ditampilkan setelah model dilatih dengan menggunakan metode `fit`."
      ],
      "metadata": {
        "id": "F3IRAmB7EsB1"
      }
    },
    {
      "cell_type": "markdown",
      "metadata": {
        "id": "xNkXL1YQBiBT"
      },
      "source": [
        "## Predicting the Test set results"
      ]
    },
    {
      "cell_type": "markdown",
      "source": [
        "```python\n",
        "y_pred = regressor.predict(X_test)\n",
        "```\n",
        "Menggunakan model regresi untuk memprediksi nilai pada data uji.\n",
        "\n",
        "```python\n",
        "np.set_printoptions(precision=2)\n",
        "```\n",
        "Mengatur opsi cetak untuk NumPy agar menampilkan angka desimal dengan presisi 2 digit.\n",
        "\n",
        "```python\n",
        "print(np.concatenate((y_pred.reshape(len(y_pred),1), y_test.reshape(len(y_test),1)),1))\n",
        "```\n",
        "Menggabungkan dan mencetak nilai prediksi dan nilai aktual secara berdampingan, dengan format yang diubah agar tampilan lebih rapi."
      ],
      "metadata": {
        "id": "XU2_1kPvEynZ"
      }
    },
    {
      "cell_type": "code",
      "metadata": {
        "id": "TQKmwvtdBkyb",
        "colab": {
          "base_uri": "https://localhost:8080/",
          "height": 185
        },
        "outputId": "493436bf-a4ae-4374-ca16-0b0c25d19457"
      },
      "source": [
        "y_pred = regressor.predict(X_test)\n",
        "np.set_printoptions(precision=2)\n",
        "print(np.concatenate((y_pred.reshape(len(y_pred),1), y_test.reshape(len(y_test),1)),1))"
      ],
      "execution_count": null,
      "outputs": [
        {
          "output_type": "stream",
          "text": [
            "[[103015.2  103282.38]\n",
            " [132582.28 144259.4 ]\n",
            " [132447.74 146121.95]\n",
            " [ 71976.1   77798.83]\n",
            " [178537.48 191050.39]\n",
            " [116161.24 105008.31]\n",
            " [ 67851.69  81229.06]\n",
            " [ 98791.73  97483.56]\n",
            " [113969.44 110352.25]\n",
            " [167921.07 166187.94]]\n"
          ],
          "name": "stdout"
        }
      ]
    },
    {
      "cell_type": "markdown",
      "source": [
        "Output menampilkan dua kolom angka yang merupakan hasil prediksi (kolom pertama) dan nilai aktual (kolom kedua) untuk setiap baris data uji."
      ],
      "metadata": {
        "id": "Jkb47FrUFB09"
      }
    }
  ]
}